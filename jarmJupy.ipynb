{
 "cells": [
  {
   "cell_type": "code",
   "execution_count": null,
   "metadata": {},
   "outputs": [],
   "source": [
    "import csv\n",
    "import re"
   ]
  },
  {
   "cell_type": "code",
   "execution_count": null,
   "metadata": {},
   "outputs": [],
   "source": [
    "# Input cell to then pass to jarm.py\n",
    "tgt = input('Insert target (Domain or IP) to perform JARM fuzzy hash on:')"
   ]
  },
  {
   "cell_type": "code",
   "execution_count": null,
   "metadata": {},
   "outputs": [],
   "source": [
    "%%capture output\n",
    "%run ./jarm/jarm.py $tgt"
   ]
  },
  {
   "cell_type": "code",
   "execution_count": null,
   "metadata": {},
   "outputs": [],
   "source": [
    "# Quick check against malicious_fingerprints.csv\n",
    "print(f'The following JARM hash was calculated when analyzing {tgt}:')\n",
    "print(output)\n",
    "\n",
    "print('Checking to see if that hash matches any known malicious signatures...')\n",
    "\n",
    "#Grab JARM hash for var\n",
    "output_working = output.stdout\n",
    "tgt_hash = re.search(r'(?<=JARM:)[^.]*',output_working)\n",
    "\n",
    "#Check to see if hash is present in malicious_fingerprints.csv\n",
    "with open('malicious_fingerprints.csv') as csv_file:\n",
    "    malreader = csv.reader(csv_file, delimiter=',')\n",
    "    next(malreader)\n",
    "    for row in malreader:\n",
    "      if tgt_hash.group(0) == row[1]:\n",
    "        print(f'{row[0]} was found to have a matching hash with {tgt}: {row[1]}')\n",
    "        break\n",
    "    else:\n",
    "      print(f'No known malicious JARM hash match found for {tgt}')"
   ]
  }
 ],
 "metadata": {
  "kernelspec": {
   "display_name": "Python 3",
   "language": "python",
   "name": "python3"
  },
  "language_info": {
   "codemirror_mode": {
    "name": "ipython",
    "version": 3
   },
   "file_extension": ".py",
   "mimetype": "text/x-python",
   "name": "python",
   "nbconvert_exporter": "python",
   "pygments_lexer": "ipython3",
   "version": "3.8.5"
  }
 },
 "nbformat": 4,
 "nbformat_minor": 4
}
